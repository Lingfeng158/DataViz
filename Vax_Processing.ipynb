{
 "cells": [
  {
   "cell_type": "code",
   "execution_count": 1,
   "id": "aacb4d3e",
   "metadata": {},
   "outputs": [],
   "source": [
    "import numpy as np\n",
    "import pandas as pd"
   ]
  },
  {
   "cell_type": "code",
   "execution_count": 14,
   "id": "2b48d10d",
   "metadata": {},
   "outputs": [],
   "source": [
    "data=pd.read_csv(\"./CDC_Vac.csv\")"
   ]
  },
  {
   "cell_type": "code",
   "execution_count": 15,
   "id": "e8130de4",
   "metadata": {},
   "outputs": [],
   "source": [
    "data=data.drop(['SOURCEINFO', 'USAFACTS_INGESTION_DATE'], axis=1)"
   ]
  },
  {
   "cell_type": "code",
   "execution_count": 16,
   "id": "60b75f23",
   "metadata": {},
   "outputs": [],
   "source": [
    "data=data[data['GEOGRAPHY_LEVEL']==\"State\"]"
   ]
  },
  {
   "cell_type": "code",
   "execution_count": 17,
   "id": "ce2e65d5",
   "metadata": {},
   "outputs": [],
   "source": [
    "data=data.drop(['GEOGRAPHY_LEVEL', 'DEMOGRAPHIC_GROUP', 'DEMOGRAPHIC_CATEGORY'], axis=1)"
   ]
  },
  {
   "cell_type": "code",
   "execution_count": 19,
   "id": "29a1ce16",
   "metadata": {},
   "outputs": [],
   "source": [
    "data.to_csv('covid_vax.csv')"
   ]
  },
  {
   "cell_type": "code",
   "execution_count": null,
   "id": "536370b4",
   "metadata": {},
   "outputs": [],
   "source": []
  }
 ],
 "metadata": {
  "kernelspec": {
   "display_name": "Python 3",
   "language": "python",
   "name": "python3"
  },
  "language_info": {
   "codemirror_mode": {
    "name": "ipython",
    "version": 3
   },
   "file_extension": ".py",
   "mimetype": "text/x-python",
   "name": "python",
   "nbconvert_exporter": "python",
   "pygments_lexer": "ipython3",
   "version": "3.8.8"
  }
 },
 "nbformat": 4,
 "nbformat_minor": 5
}
